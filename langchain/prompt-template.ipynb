{
 "cells": [
  {
   "cell_type": "markdown",
   "metadata": {},
   "source": [
    "参考文档：[Azure OpenAI 入门教程 - LangChain 篇 ：Prompt 提示词模板](https://zhuanlan.zhihu.com/p/642996705)"
   ]
  },
  {
   "cell_type": "code",
   "execution_count": null,
   "metadata": {},
   "outputs": [],
   "source": [
    "! pip install langchain\n",
    "! pip install openai\n",
    "! pip install python-dotenv"
   ]
  },
  {
   "cell_type": "code",
   "execution_count": null,
   "metadata": {},
   "outputs": [],
   "source": [
    "import dotenv\n",
    "from langchain.prompts import ChatPromptTemplate\n",
    "from langchain.chat_models import ChatOpenAI\n",
    "from pprint import pprint\n",
    "\n",
    "dotenv.load_dotenv()\n",
    "llm = ChatOpenAI()"
   ]
  },
  {
   "cell_type": "code",
   "execution_count": null,
   "metadata": {},
   "outputs": [],
   "source": [
    "template_string = \"\"\"用英文翻译以下文本```{text}```，翻译时采用 {style} 风格\"\"\"\n",
    "prompt_template = ChatPromptTemplate.from_template(template_string)\n",
    "\n",
    "customer_style = \"\"\"商用英式英语\"\"\"\n",
    "customer_text = \"\"\"六一儿童节，可以放假半天，大家收拾好东西准备回家\"\"\"\n",
    "\n",
    "customer_messages = prompt_template.format_messages(\n",
    "    style=customer_style,\n",
    "    text=customer_text)\n",
    "\n",
    "customer_response = llm(customer_messages)\n",
    "\n",
    "pprint(customer_response.content)"
   ]
  },
  {
   "cell_type": "code",
   "execution_count": null,
   "metadata": {},
   "outputs": [],
   "source": [
    "customer_review = \"\"\"\\\n",
    "这款吹风机有四个档位：小风，中风，大风和特大风。\\\n",
    "它还有2天能到货，正好赶上我妻子的周年纪年礼物。\\\n",
    "虽然价格略高于其他吹风机，但我认为其额外功能是值得的。\n",
    "\"\"\"\n",
    "\n",
    "review_template = \"\"\"\\\n",
    "对于文本，提取以下信息：\n",
    "\n",
    "gift: 该物品是否作为礼物购买？如果是，请回答True；否则或未知请回答False。\n",
    "\n",
    "delivery_days: 产品到达需要多少天？如果找不到此信息，请输出-1.\n",
    "\n",
    "将输出苌转化为JSON，具有以下键：\n",
    "gift\n",
    "delivery_days\n",
    "\n",
    "text: {text}\n",
    "\"\"\"\n",
    "\n",
    "prompt_template = ChatPromptTemplate.from_template(review_template)\n",
    "messages = prompt_template.format_messages(text=customer_review)\n",
    "\n",
    "response = llm(messages)\n",
    "print(response.content)"
   ]
  },
  {
   "cell_type": "code",
   "execution_count": null,
   "metadata": {},
   "outputs": [],
   "source": [
    "from langchain.output_parsers import ResponseSchema, StructuredOutputParser\n",
    "\n",
    "review_template_2 = \"\"\"\\\n",
    "对于文本，提取以下信息：\n",
    "\n",
    "gift: 该物品是否作为礼物购买？如果是，请回答True；否则或未知请回答False。\n",
    "\n",
    "delivery_days: 产品到达需要多少天？如果找不到此信息，请输出-1.\n",
    "\n",
    "text: {text}\n",
    "\n",
    "{format_instructions}\n",
    "\"\"\"\n",
    "\n",
    "gift_schema = ResponseSchema(name=\"gift\",\n",
    "                             description=\"该物品是否作为礼物购买？如果是，请回答True；否则或未知请回答False。\")\n",
    "delivery_days_schema = ResponseSchema(name=\"delivery_days\",\n",
    "                                      description=\"产品到达需要多少天？如果找不到此信息，请输出-1.\")\n",
    "response_schema = [gift_schema, delivery_days_schema]\n",
    "output_parser = StructuredOutputParser.from_response_schemas(response_schema)\n",
    "format_instructions = output_parser.get_format_instructions()\n",
    "\n",
    "prompt = ChatPromptTemplate.from_template(template=review_template_2)\n",
    "messages = prompt.format_messages(text=customer_review,\n",
    "                                    format_instructions=format_instructions)\n",
    "response = llm(messages)\n",
    "print(response.content)\n",
    "output_dict = output_parser.parse(response.content)\n",
    "print(output_dict.get('delivery_days'))"
   ]
  }
 ],
 "metadata": {
  "kernelspec": {
   "display_name": "Python 3",
   "language": "python",
   "name": "python3"
  },
  "language_info": {
   "codemirror_mode": {
    "name": "ipython",
    "version": 3
   },
   "file_extension": ".py",
   "mimetype": "text/x-python",
   "name": "python",
   "nbconvert_exporter": "python",
   "pygments_lexer": "ipython3",
   "version": "3.11.5"
  }
 },
 "nbformat": 4,
 "nbformat_minor": 2
}
